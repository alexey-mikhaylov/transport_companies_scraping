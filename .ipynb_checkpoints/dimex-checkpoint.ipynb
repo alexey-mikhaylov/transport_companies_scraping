{
 "cells": [
  {
   "cell_type": "markdown",
   "id": "df0dbab8-5a2a-4f86-a143-1296939bbccd",
   "metadata": {},
   "source": [
    "# Компания: Dimex (https://www.dimex.ws/)"
   ]
  },
  {
   "cell_type": "code",
   "execution_count": 1,
   "id": "2b7de56a-d199-49ef-ad6c-473a7120e2c0",
   "metadata": {},
   "outputs": [],
   "source": [
    "import requests"
   ]
  },
  {
   "cell_type": "code",
   "execution_count": 2,
   "id": "9be688aa-6741-4453-93ce-c845f3500690",
   "metadata": {},
   "outputs": [],
   "source": [
    "user_agent = \"Mozilla/5.0 (Windows NT 10.0; Win64; x64) AppleWebKit/537.36 (KHTML, like Gecko) Chrome/124.0.0.0 Safari/537.36\""
   ]
  },
  {
   "cell_type": "markdown",
   "id": "526bb97c-4050-42a3-bdc7-a375d735d1c3",
   "metadata": {},
   "source": [
    "## API (https://www.dimex.ws/dokumentatsiya/integratsiya/)\n",
    "В настоящее время все ссылки для интеграции, к сожалению, недоступны!"
   ]
  },
  {
   "cell_type": "code",
   "execution_count": 7,
   "id": "c2c817e7-abde-4c43-9122-b2929b611a8e",
   "metadata": {},
   "outputs": [
    {
     "name": "stdout",
     "output_type": "stream",
     "text": [
      "При выполнении запроса произошла ошибка:\n",
      "HTTPConnectionPool(host='rus.tech-dimex.ru', port=80): Max retries exceeded with url: /api/calculator/search?q=%D0%9A%D0%B0%D0%B7%D0%B0%D0%BD%D1%8C (Caused by NameResolutionError(\"<urllib3.connection.HTTPConnection object at 0x000001817D479E80>: Failed to resolve 'rus.tech-dimex.ru' ([Errno 11001] getaddrinfo failed)\"))\n"
     ]
    }
   ],
   "source": [
    "# идентификация населённых пунктов\n",
    "# подробнее про API Dimex см. здесь: http://rus.tech-dimex.ru/api/calculator\n",
    "url = \"http://rus.tech-dimex.ru/api/calculator/search\"\n",
    "headers = {\"User-Agent\": user_agent}\n",
    "input_data = {\"q\": \"Казань\"}\n",
    "try:\n",
    "    resp = requests.get(url=url, params=input_data, headers=headers)\n",
    "    resp.raise_for_status()\n",
    "except Exception as err:\n",
    "    print(f\"При выполнении запроса произошла ошибка:\\n{err}\")\n",
    "else:\n",
    "    output_data = resp.json()\n",
    "    output_data"
   ]
  },
  {
   "cell_type": "code",
   "execution_count": 9,
   "id": "edb8ef38-ddf6-40ae-9ab9-a568d9b94abd",
   "metadata": {},
   "outputs": [
    {
     "name": "stdout",
     "output_type": "stream",
     "text": [
      "При выполнении запроса произошла ошибка:\n",
      "HTTPConnectionPool(host='rus.tech-dimex.ru', port=80): Max retries exceeded with url: /api/calculator/result?mode=3&weight=5&declarv=%D0%9D%D0%95+%D0%94%D0%9E%D0%9A%D0%A3%D0%9C%D0%95%D0%9D%D0%A2%D0%AB&cityo=6431600000100000&cityp=6437700000000000 (Caused by NameResolutionError(\"<urllib3.connection.HTTPConnection object at 0x000001817D49B0D0>: Failed to resolve 'rus.tech-dimex.ru' ([Errno 11001] getaddrinfo failed)\"))\n"
     ]
    }
   ],
   "source": [
    "# расчёт стоимости и сроков доставки\n",
    "# подробнее про API Dimex см. здесь: http://rus.tech-dimex.ru/api/calculator\n",
    "url = \"http://rus.tech-dimex.ru/api/calculator/result\"\n",
    "headers = {\"User-Agent\": user_agent}\n",
    "dimex_services = {3: \"Экспресс-доставка по стране Оплата отправителем\",\n",
    "                  22: \"Экспресс-доставка по стране Оплата получателем, отправление из вашего города\",\n",
    "                  33: \"Экспресс-доставка по стране Оплата получателем из другого города в ваш\",\n",
    "                  8: \"Экспресс-доставка по стране Оплата 3-м лицом\",\n",
    "                  5: \"Экспресс-доставка по городу\",\n",
    "                  100: \"Эконом-доставка Оплата отправителем\"}\n",
    "weight = 5\n",
    "city_dpt_code = \"6431600000100000\"\n",
    "city_dst_code = \"6437700000000000\"\n",
    "service_code = 3\n",
    "cargo_type = \"НЕ ДОКУМЕНТЫ\"\n",
    "if service_code == 5:\n",
    "    url = \"http://rus.tech-dimex.ru/api/v2/calculator/result\"\n",
    "    input_data = {\"mode\": service_code,\n",
    "                  \"weight\": weight,\n",
    "                  \"cityo\": city_dpt_code}\n",
    "elif service_code in (3, 22, 33, 8):\n",
    "    input_data = {\"mode\": service_code,\n",
    "                  \"weight\": weight,\n",
    "                  \"declarv\": cargo_type,\n",
    "                  \"cityo\": city_dpt_code,\n",
    "                  \"cityp\": city_dst_code}\n",
    "else:\n",
    "    input_data = {\"mode\": service_code,\n",
    "                  \"weight\": weight,\n",
    "                  \"cityo\": city_dpt_code,\n",
    "                  \"cityp\": city_dst_code}\n",
    "try:\n",
    "    resp = requests.get(url=url, params=input_data, headers=headers)\n",
    "    resp.raise_for_status()\n",
    "except Exception as err:\n",
    "    print(f\"При выполнении запроса произошла ошибка:\\n{err}\")\n",
    "else:\n",
    "    output_data = resp.json()\n",
    "    output_data"
   ]
  },
  {
   "cell_type": "markdown",
   "id": "d0e4ae13-9ae5-4887-a9b1-48572c2788a8",
   "metadata": {},
   "source": [
    "## Калькулятор на сайте (https://www.dimex.ws/kalkulyator/dostavka/)"
   ]
  },
  {
   "cell_type": "code",
   "execution_count": 10,
   "id": "aac4270e-f460-4443-926d-419d397b76e1",
   "metadata": {},
   "outputs": [
    {
     "data": {
      "text/plain": [
       "[{'value': '101,2015,,45076',\n",
       "  'text': 'город Казань,  Татарстан республика, Россия'},\n",
       " {'value': '101,2042,5166,95305',\n",
       "  'text': 'деревня Казань, Арбажский район, Кировская область, Россия'},\n",
       " {'value': '101,2042,5171,95762',\n",
       "  'text': 'деревня Казань, Верхошижемский район, Кировская область, Россия'},\n",
       " {'value': '101,2042,5194,98722',\n",
       "  'text': 'деревня Казань, Свечинский район, Кировская область, Россия'},\n",
       " {'value': '101,2042,5195,98853',\n",
       "  'text': 'село Казань, Слободской район, Кировская область, Россия'},\n",
       " {'value': '101,2015,4349,214074',\n",
       "  'text': 'дачный поселок Казаньрезинотехника, Верхнеуслонский район, Татарстан республика, Россия'}]"
      ]
     },
     "execution_count": 10,
     "metadata": {},
     "output_type": "execute_result"
    }
   ],
   "source": [
    "# идентификация населённых пунктов\n",
    "url = \"https://calc.dimex.ws/AutoComplete.php\"\n",
    "headers = {\"Accept\": \"*/*\",\n",
    "           \"Accept-Encoding\": \"gzip, deflate, br, zstd\",\n",
    "           \"X-Requested-With\": \"XMLHttpRequest\",\n",
    "           \"Accept-Language\": \"ru-RU,ru;q=0.9,en-US;q=0.8,en;q=0.7\",\n",
    "           \"User-Agent\": user_agent}\n",
    "input_data = {\"lang\": \"rus\",\n",
    "              \"q\": \"Казань\"}\n",
    "resp = requests.get(url=url, params=input_data, headers=headers)\n",
    "resp.raise_for_status()\n",
    "output_data = resp.json()\n",
    "output_data"
   ]
  },
  {
   "cell_type": "code",
   "execution_count": 20,
   "id": "71745b35-deb9-4e0d-aa4e-ed77b0dc9a1d",
   "metadata": {},
   "outputs": [
    {
     "data": {
      "text/plain": [
       "{'error': '',\n",
       " 'caption_top': 'Доставка из город Казань в город Москва',\n",
       " 'departure_date': 'Дата отправления 13.05.2024',\n",
       " 'thead': ['Услуги',\n",
       "  'Тариф, руб',\n",
       "  'Итого, руб',\n",
       "  'Срок, рабочих дней',\n",
       "  'Передать отправление до',\n",
       "  'Дата доставки'],\n",
       " 'tbody': {'next_day_by_10': {'name': 'Доставка к 10.00',\n",
       "   'price': 3115,\n",
       "   'packaging': 0,\n",
       "   'price_total': 3115,\n",
       "   'delivery_date': '14.05.2024',\n",
       "   'delivery': 'доставка на следующий день к 10.00',\n",
       "   'time_limit': '18:00',\n",
       "   'individual_sales': 'no',\n",
       "   'sales': 0},\n",
       "  'next_day_by_13': {'name': 'Доставка до 13.00',\n",
       "   'price': 2870,\n",
       "   'packaging': 0,\n",
       "   'price_total': 2870,\n",
       "   'delivery_date': '14.05.2024',\n",
       "   'delivery': 'доставка на следующий день до 13.00',\n",
       "   'time_limit': '18:00',\n",
       "   'individual_sales': 'no',\n",
       "   'sales': 0},\n",
       "  'next_day_by_18': {'name': 'Доставка до 18.00',\n",
       "   'price': 2405,\n",
       "   'packaging': 0,\n",
       "   'price_total': 2405,\n",
       "   'delivery_date': '14.05.2024',\n",
       "   'delivery': 'доставка на следующий день до 18.00',\n",
       "   'time_limit': '18:00',\n",
       "   'individual_sales': 'no',\n",
       "   'sales': 0},\n",
       "  'second_working_day_by_10': {'name': 'Доставка к 10.00',\n",
       "   'price': 2525,\n",
       "   'packaging': 0,\n",
       "   'price_total': 2525,\n",
       "   'delivery_date': '15.05.2024',\n",
       "   'delivery': 'доставка на второй день к 10.00',\n",
       "   'time_limit': '18:00',\n",
       "   'individual_sales': 'no',\n",
       "   'sales': 0},\n",
       "  'second_working_day_by_13': {'name': 'Доставка к 13.00',\n",
       "   'price': 1730,\n",
       "   'packaging': 0,\n",
       "   'price_total': 1730,\n",
       "   'delivery_date': '15.05.2024',\n",
       "   'delivery': 'доставка на второй день до 13.00',\n",
       "   'time_limit': '18:00',\n",
       "   'individual_sales': 'no',\n",
       "   'sales': 0},\n",
       "  'express': {'name': 'Экспресс',\n",
       "   'price': 985,\n",
       "   'packaging': 0,\n",
       "   'price_total': 985,\n",
       "   'delivery_date': '15.05.2024',\n",
       "   'delivery': '1 - 2 дня',\n",
       "   'time_limit': '18.00',\n",
       "   'individual_sales': 'no',\n",
       "   'sales': 0},\n",
       "  'economy_CC': {'name': 'Эконом склад-склад',\n",
       "   'price': 810,\n",
       "   'packaging': 0,\n",
       "   'price_total': 810,\n",
       "   'delivery_date': '16.05.2024',\n",
       "   'delivery': '2 - 3 дня',\n",
       "   'time_limit': '18.00',\n",
       "   'individual_sales': 'no',\n",
       "   'sales': 0},\n",
       "  'economy_CD': {'name': 'Эконом склад-дверь',\n",
       "   'price': 810,\n",
       "   'packaging': 0,\n",
       "   'price_total': 810,\n",
       "   'delivery_date': '17.05.2024',\n",
       "   'delivery': '3 - 4 дня',\n",
       "   'time_limit': '18.00',\n",
       "   'individual_sales': 'no',\n",
       "   'sales': 0},\n",
       "  'economy_DC': {'name': 'Эконом дверь-склад',\n",
       "   'price': 810,\n",
       "   'packaging': 0,\n",
       "   'price_total': 810,\n",
       "   'delivery_date': '17.05.2024',\n",
       "   'delivery': '3 - 4 дня',\n",
       "   'time_limit': '18.00',\n",
       "   'individual_sales': 'no',\n",
       "   'sales': 0},\n",
       "  'economy_DD': {'name': 'Эконом дверь-дверь',\n",
       "   'price': 810,\n",
       "   'packaging': 0,\n",
       "   'price_total': 810,\n",
       "   'delivery_date': '20.05.2024',\n",
       "   'delivery': '4 - 5 дней',\n",
       "   'time_limit': '18.00',\n",
       "   'individual_sales': 'no',\n",
       "   'sales': 0}},\n",
       " 'caption_bottom': 'Сроки указаны в рабочих днях, без учета дня приема отправления, выходных и праздничных дней. Расчет сроков - предварительный. Для получения информации по срокам  доставки необходимо обратиться в ближайший офис ДАЙМЭКС.</br>Тариф указан с учетом НДС и ТН.</br>Тариф рассчитан по большему весу (физическому или объемному)</br>Расчет произведен без учета габаритов упаковки. Для уточнения тарифа обратитесь в ближайший офис ДАЙМЭКС</br>Возможность организации Специальных услуг по доставке к определенному времени уточняйте в ближайшем офисе ДАЙМЭКС</br>При доставке в населенные пункты Камчатского края, Магаданской области, республики Саха (Якутия),Приморского край, Хабаровского край, Амурской области, Еврейской АО, Сахалинской области, Чукотского АО, г. Севастополь и Респ. Крым тариф и срок может быть увеличен. Для уточнения информации обращайтесь в ближайший офис ДАЙМЭКС.</br>При оказании услуги по доставке из г. Калининграда отправлений  \"не документы\" тариф и срок может быть увеличен.</br>(Доставка по городу - Санкт-Петербург) Ожидание свыше 15 минут на адресах отправителя/получателя, для  оформления пропуска или погрузки-разгрузки, оплачиваются дополнительно.</br>Тариф указан за доставку в пределах МКАД.</br>',\n",
       " 'currency': 'руб',\n",
       " 'thead_min': ['Услуги', 'Тариф, руб', 'Срок', 'Передать до', 'Дата']}"
      ]
     },
     "execution_count": 20,
     "metadata": {},
     "output_type": "execute_result"
    }
   ],
   "source": [
    "# расчёт стоимости и сроков доставки\n",
    "url = \"https://calc.dimex.ws/calculation.php\"\n",
    "headers = {\"Accept\": \"*/*\",\n",
    "           \"Accept-Encoding\": \"gzip, deflate, br, zstd\",\n",
    "           \"X-Requested-With\": \"XMLHttpRequest\",\n",
    "           \"Accept-Language\": \"ru-RU,ru;q=0.9,en-US;q=0.8,en;q=0.7\",\n",
    "           \"User-Agent\": user_agent}\n",
    "input_data = {\"lang\": \"rus\",\n",
    "              \"sender\": \"101,2015,,45076\",\n",
    "              \"recipient\": \"101,2076,,205628\",\n",
    "              \"cargo_value\": \"\",\n",
    "              \"payment\": 1,\n",
    "              \"document\": 1,\n",
    "              \"place\": '{\"0\":{\"wt\":5}}',\n",
    "              \"additional_packing\": False,\n",
    "              \"packaging\": {},\n",
    "              \"service\": {}}\n",
    "resp = requests.get(url=url, params=input_data, headers=headers)\n",
    "resp.raise_for_status()\n",
    "output_data = resp.json()\n",
    "output_data"
   ]
  }
 ],
 "metadata": {
  "kernelspec": {
   "display_name": "Python 3 (ipykernel)",
   "language": "python",
   "name": "python3"
  },
  "language_info": {
   "codemirror_mode": {
    "name": "ipython",
    "version": 3
   },
   "file_extension": ".py",
   "mimetype": "text/x-python",
   "name": "python",
   "nbconvert_exporter": "python",
   "pygments_lexer": "ipython3",
   "version": "3.8.10"
  }
 },
 "nbformat": 4,
 "nbformat_minor": 5
}
