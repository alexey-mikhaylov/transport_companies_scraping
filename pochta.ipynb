{
 "cells": [
  {
   "cell_type": "markdown",
   "metadata": {},
   "source": [
    "# Компания: Почта России (https://www.pochta.ru/)"
   ]
  },
  {
   "cell_type": "code",
   "execution_count": 16,
   "metadata": {},
   "outputs": [],
   "source": [
    "import requests\n",
    "import json\n",
    "import math"
   ]
  },
  {
   "cell_type": "code",
   "execution_count": 3,
   "metadata": {},
   "outputs": [],
   "source": [
    "user_agent = \"Mozilla/5.0 (Windows NT 10.0; Win64; x64) AppleWebKit/537.36 (KHTML, like Gecko) Chrome/124.0.0.0 Safari/537.36\""
   ]
  },
  {
   "cell_type": "markdown",
   "metadata": {},
   "source": [
    "## Калькулятор на сайте (https://otpravka.pochta.ru/calculator)"
   ]
  },
  {
   "cell_type": "code",
   "execution_count": 5,
   "metadata": {},
   "outputs": [
    {
     "data": {
      "text/plain": [
       "'5c0d2f06-1a9f-4999-9a90-9310573efe5f'"
      ]
     },
     "execution_count": 5,
     "metadata": {},
     "output_type": "execute_result"
    }
   ],
   "source": [
    "# получаем токен\n",
    "url = \"https://otpravka.pochta.ru/calculator\"\n",
    "headers = {\"User-Agent\": user_agent}\n",
    "\n",
    "session = requests.Session()\n",
    "resp = session.get(url=url, headers=headers)\n",
    "resp.raise_for_status()\n",
    "token = session.cookies.get_dict()[\"XSRF-TOKEN\"]\n",
    "token"
   ]
  },
  {
   "cell_type": "code",
   "execution_count": 11,
   "metadata": {},
   "outputs": [
    {
     "data": {
      "text/plain": [
       "[{'index': '420000', 'place': 'г Казань', 'region': 'Респ Татарстан'},\n",
       " {'area': 'р-н Балашовский',\n",
       "  'index': '412334',\n",
       "  'place': 'с Рассказань',\n",
       "  'region': 'обл Саратовская'}]"
      ]
     },
     "execution_count": 11,
     "metadata": {},
     "output_type": "execute_result"
    }
   ],
   "source": [
    "# идентификация населённых пунктов\n",
    "url = \"https://otpravka.pochta.ru/api/calculator/places\"\n",
    "headers = {\"User-Agent\": user_agent,\n",
    "           \"X-XSRF-TOKEN\": token}\n",
    "input_data = {\"query\": \"Казань\"}\n",
    "resp = session.get(url=url, params=input_data, headers=headers)\n",
    "resp.raise_for_status()\n",
    "output_data = resp.json()\n",
    "output_data"
   ]
  },
  {
   "cell_type": "code",
   "execution_count": 22,
   "metadata": {},
   "outputs": [
    {
     "name": "stdout",
     "output_type": "stream",
     "text": [
      "Стандарт от терминала\n",
      "[{\"cardPayment\":true,\"cashPayment\":true,\"completenessChecking\":\"15,25 ₽\",\"courierRate\":\"от 300₽ за сбор партии\",\"deliveryRate\":60804.0,\"deliveryTimeMax\":0,\"deliveryTimeMin\":0,\"deliveryType\":\"Почтовое отделение\",\"easyReturn\":\"от 180₽ за отправление\",\"indexTo\":\"101000\",\"insuranceValueRate\":\" от 0,42% от указанной стоимости\",\"mailType\":\"POSTAL_PARCEL\",\"mailTypeText\":\"Посылка\",\"mass\":5500.0,\"massMax\":\"20 кг\",\"prePostalPreparationRate\":\"15,25₽ за отправление\",\"sizeMax\":\"Одна сторона не более 60 см, сумма всех сторон не более 120 см\",\"smsNotificationRate\":\"7 ₽\"},{\"cardPayment\":false,\"cashPayment\":false,\"deliveryTimeMax\":0,\"deliveryTimeMin\":0,\"error\":\"Расчет тарифов. [TariffErrorJson(code=2003, msg=Посылка 1 класса (47030) от 09.05.2024. Плата за доставку посылки 1 класса для корпоративных клиентов (2580). Физический вес единичного отправления посылка 1 класса для корпоративных клиентов не может превышать 5 кг (2.194). (1.3).)]\",\"indexTo\":\"101000\",\"mailType\":\"PARCEL_CLASS_1\",\"mailTypeText\":\"Посылка 1 класса\",\"mass\":5500.0},{\"cardPayment\":true,\"cashPayment\":true,\"courierRate\":\"Входит в стоимость\",\"deliveryRate\":92801.0,\"deliveryTimeMax\":0,\"deliveryTimeMin\":0,\"deliveryType\":\"До двери\",\"easyReturn\":\"от 180₽ за отправление\",\"indexTo\":\"101000\",\"insuranceValueRate\":\"от 0,42% от указанной стоимости, без НДС\",\"mailType\":\"EMS\",\"mailTypeText\":\"Отправление EMS\",\"mass\":5500.0,\"massMax\":\"31,5 кг\",\"prePostalPreparationRate\":\"15,25₽ за отправление\",\"sizeMax\":\"Одна сторона не более 150 см, сумма длины и периметра наибольшего поперечного сечения не более 300 см\",\"smsNotificationRate\":\"7 ₽\"},{\"cardPayment\":false,\"cashPayment\":false,\"courierRate\":\"Входит в стоимость\",\"deliveryRate\":90240.0,\"deliveryTimeMax\":0,\"deliveryTimeMin\":0,\"deliveryType\":\"До двери\",\"easyReturn\":\"от 180₽ за отправление\",\"indexTo\":\"101000\",\"insuranceValueRate\":\"от 0,42% от указанной стоимости, без НДС\",\"mailType\":\"BUSINESS_COURIER\",\"mailTypeText\":\"Бизнес курьер\",\"mass\":5500.0,\"massMax\":\"31,5 кг\",\"sizeMax\":\"Одна сторона не более 150 см, сумма длины и периметра наибольшего поперечного сечения не более 300 см\"},{\"cardPayment\":false,\"cashPayment\":false,\"courierRate\":\"Входит в стоимость\",\"deliveryRate\":172320.0,\"deliveryTimeMax\":0,\"deliveryTimeMin\":0,\"deliveryType\":\"До двери\",\"easyReturn\":\"от 180₽ за отправление\",\"indexTo\":\"101000\",\"insuranceValueRate\":\" от 0,85% от указанной стоимости, без НДС\",\"mailType\":\"BUSINESS_COURIER_ES\",\"mailTypeText\":\"Бизнес курьер экспресс\",\"mass\":5500.0,\"massMax\":\"31,5 кг\",\"sizeMax\":\"Одна сторона не более 150 см, сумма длины и периметра наибольшего поперечного сечения не более 300 см\"},{\"cardPayment\":false,\"cashPayment\":false,\"courierRate\":\"Входит в стоимость\",\"deliveryRate\":70920.0,\"deliveryTimeMax\":0,\"deliveryTimeMin\":0,\"deliveryType\":\"До двери\",\"easyReturn\":\"от 180₽ за отправление\",\"indexTo\":\"101000\",\"insuranceValueRate\":\" от 0,17% от указанной стоимости, без НДС\",\"mailType\":\"EMS_RT\",\"mailTypeText\":\"EMS РТ\",\"mass\":5500.0,\"massMax\":\"31,5 кг\",\"sizeMax\":\"Одна сторона не более 150 см, сумма длины и периметра наибольшего поперечного сечения не более 300 см\"}]\n",
      "[{'cardPayment': True, 'cashPayment': True, 'completenessChecking': '15,25 ₽', 'courierRate': 'от 300₽ за сбор партии', 'deliveryRate': 60804.0, 'deliveryTimeMax': 0, 'deliveryTimeMin': 0, 'deliveryType': 'Почтовое отделение', 'easyReturn': 'от 180₽ за отправление', 'indexTo': '101000', 'insuranceValueRate': ' от 0,42% от указанной стоимости', 'mailType': 'POSTAL_PARCEL', 'mailTypeText': 'Посылка', 'mass': 5500.0, 'massMax': '20 кг', 'prePostalPreparationRate': '15,25₽ за отправление', 'sizeMax': 'Одна сторона не более 60 см, сумма всех сторон не более 120 см', 'smsNotificationRate': '7 ₽'}, {'cardPayment': False, 'cashPayment': False, 'deliveryTimeMax': 0, 'deliveryTimeMin': 0, 'error': 'Расчет тарифов. [TariffErrorJson(code=2003, msg=Посылка 1 класса (47030) от 09.05.2024. Плата за доставку посылки 1 класса для корпоративных клиентов (2580). Физический вес единичного отправления посылка 1 класса для корпоративных клиентов не может превышать 5 кг (2.194). (1.3).)]', 'indexTo': '101000', 'mailType': 'PARCEL_CLASS_1', 'mailTypeText': 'Посылка 1 класса', 'mass': 5500.0}, {'cardPayment': True, 'cashPayment': True, 'courierRate': 'Входит в стоимость', 'deliveryRate': 92801.0, 'deliveryTimeMax': 0, 'deliveryTimeMin': 0, 'deliveryType': 'До двери', 'easyReturn': 'от 180₽ за отправление', 'indexTo': '101000', 'insuranceValueRate': 'от 0,42% от указанной стоимости, без НДС', 'mailType': 'EMS', 'mailTypeText': 'Отправление EMS', 'mass': 5500.0, 'massMax': '31,5 кг', 'prePostalPreparationRate': '15,25₽ за отправление', 'sizeMax': 'Одна сторона не более 150 см, сумма длины и периметра наибольшего поперечного сечения не более 300 см', 'smsNotificationRate': '7 ₽'}, {'cardPayment': False, 'cashPayment': False, 'courierRate': 'Входит в стоимость', 'deliveryRate': 90240.0, 'deliveryTimeMax': 0, 'deliveryTimeMin': 0, 'deliveryType': 'До двери', 'easyReturn': 'от 180₽ за отправление', 'indexTo': '101000', 'insuranceValueRate': 'от 0,42% от указанной стоимости, без НДС', 'mailType': 'BUSINESS_COURIER', 'mailTypeText': 'Бизнес курьер', 'mass': 5500.0, 'massMax': '31,5 кг', 'sizeMax': 'Одна сторона не более 150 см, сумма длины и периметра наибольшего поперечного сечения не более 300 см'}, {'cardPayment': False, 'cashPayment': False, 'courierRate': 'Входит в стоимость', 'deliveryRate': 172320.0, 'deliveryTimeMax': 0, 'deliveryTimeMin': 0, 'deliveryType': 'До двери', 'easyReturn': 'от 180₽ за отправление', 'indexTo': '101000', 'insuranceValueRate': ' от 0,85% от указанной стоимости, без НДС', 'mailType': 'BUSINESS_COURIER_ES', 'mailTypeText': 'Бизнес курьер экспресс', 'mass': 5500.0, 'massMax': '31,5 кг', 'sizeMax': 'Одна сторона не более 150 см, сумма длины и периметра наибольшего поперечного сечения не более 300 см'}, {'cardPayment': False, 'cashPayment': False, 'courierRate': 'Входит в стоимость', 'deliveryRate': 70920.0, 'deliveryTimeMax': 0, 'deliveryTimeMin': 0, 'deliveryType': 'До двери', 'easyReturn': 'от 180₽ за отправление', 'indexTo': '101000', 'insuranceValueRate': ' от 0,17% от указанной стоимости, без НДС', 'mailType': 'EMS_RT', 'mailTypeText': 'EMS РТ', 'mass': 5500.0, 'massMax': '31,5 кг', 'sizeMax': 'Одна сторона не более 150 см, сумма длины и периметра наибольшего поперечного сечения не более 300 см'}]\n",
      "Стандарт от двери\n",
      "[{\"cardPayment\":true,\"cashPayment\":true,\"completenessChecking\":\"15,25 ₽\",\"courierRate\":\"от 300₽ за сбор партии\",\"deliveryRate\":60804.0,\"deliveryTimeMax\":0,\"deliveryTimeMin\":0,\"deliveryType\":\"Почтовое отделение\",\"easyReturn\":\"от 180₽ за отправление\",\"indexTo\":\"101000\",\"insuranceValueRate\":\" от 0,42% от указанной стоимости\",\"mailType\":\"POSTAL_PARCEL\",\"mailTypeText\":\"Посылка\",\"mass\":5500.0,\"massMax\":\"20 кг\",\"prePostalPreparationRate\":\"15,25₽ за отправление\",\"sizeMax\":\"Одна сторона не более 60 см, сумма всех сторон не более 120 см\",\"smsNotificationRate\":\"7 ₽\"},{\"cardPayment\":false,\"cashPayment\":false,\"deliveryTimeMax\":0,\"deliveryTimeMin\":0,\"error\":\"Расчет тарифов. [TariffErrorJson(code=2003, msg=Посылка 1 класса (47030) от 09.05.2024. Плата за доставку посылки 1 класса для корпоративных клиентов (2580). Физический вес единичного отправления посылка 1 класса для корпоративных клиентов не может превышать 5 кг (2.194). (1.3).)]\",\"indexTo\":\"101000\",\"mailType\":\"PARCEL_CLASS_1\",\"mailTypeText\":\"Посылка 1 класса\",\"mass\":5500.0},{\"cardPayment\":true,\"cashPayment\":true,\"courierRate\":\"Входит в стоимость\",\"deliveryRate\":92801.0,\"deliveryTimeMax\":0,\"deliveryTimeMin\":0,\"deliveryType\":\"До двери\",\"easyReturn\":\"от 180₽ за отправление\",\"indexTo\":\"101000\",\"insuranceValueRate\":\"от 0,42% от указанной стоимости, без НДС\",\"mailType\":\"EMS\",\"mailTypeText\":\"Отправление EMS\",\"mass\":5500.0,\"massMax\":\"31,5 кг\",\"prePostalPreparationRate\":\"15,25₽ за отправление\",\"sizeMax\":\"Одна сторона не более 150 см, сумма длины и периметра наибольшего поперечного сечения не более 300 см\",\"smsNotificationRate\":\"7 ₽\"},{\"cardPayment\":false,\"cashPayment\":false,\"courierRate\":\"Входит в стоимость\",\"deliveryRate\":90240.0,\"deliveryTimeMax\":0,\"deliveryTimeMin\":0,\"deliveryType\":\"До двери\",\"easyReturn\":\"от 180₽ за отправление\",\"indexTo\":\"101000\",\"insuranceValueRate\":\"от 0,42% от указанной стоимости, без НДС\",\"mailType\":\"BUSINESS_COURIER\",\"mailTypeText\":\"Бизнес курьер\",\"mass\":5500.0,\"massMax\":\"31,5 кг\",\"sizeMax\":\"Одна сторона не более 150 см, сумма длины и периметра наибольшего поперечного сечения не более 300 см\"},{\"cardPayment\":false,\"cashPayment\":false,\"courierRate\":\"Входит в стоимость\",\"deliveryRate\":172320.0,\"deliveryTimeMax\":0,\"deliveryTimeMin\":0,\"deliveryType\":\"До двери\",\"easyReturn\":\"от 180₽ за отправление\",\"indexTo\":\"101000\",\"insuranceValueRate\":\" от 0,85% от указанной стоимости, без НДС\",\"mailType\":\"BUSINESS_COURIER_ES\",\"mailTypeText\":\"Бизнес курьер экспресс\",\"mass\":5500.0,\"massMax\":\"31,5 кг\",\"sizeMax\":\"Одна сторона не более 150 см, сумма длины и периметра наибольшего поперечного сечения не более 300 см\"},{\"cardPayment\":false,\"cashPayment\":false,\"courierRate\":\"Входит в стоимость\",\"deliveryRate\":70920.0,\"deliveryTimeMax\":0,\"deliveryTimeMin\":0,\"deliveryType\":\"До двери\",\"easyReturn\":\"от 180₽ за отправление\",\"indexTo\":\"101000\",\"insuranceValueRate\":\" от 0,17% от указанной стоимости, без НДС\",\"mailType\":\"EMS_RT\",\"mailTypeText\":\"EMS РТ\",\"mass\":5500.0,\"massMax\":\"31,5 кг\",\"sizeMax\":\"Одна сторона не более 150 см, сумма длины и периметра наибольшего поперечного сечения не более 300 см\"}]\n",
      "[{'cardPayment': True, 'cashPayment': True, 'completenessChecking': '15,25 ₽', 'courierRate': 'от 300₽ за сбор партии', 'deliveryRate': 60804.0, 'deliveryTimeMax': 0, 'deliveryTimeMin': 0, 'deliveryType': 'Почтовое отделение', 'easyReturn': 'от 180₽ за отправление', 'indexTo': '101000', 'insuranceValueRate': ' от 0,42% от указанной стоимости', 'mailType': 'POSTAL_PARCEL', 'mailTypeText': 'Посылка', 'mass': 5500.0, 'massMax': '20 кг', 'prePostalPreparationRate': '15,25₽ за отправление', 'sizeMax': 'Одна сторона не более 60 см, сумма всех сторон не более 120 см', 'smsNotificationRate': '7 ₽'}, {'cardPayment': False, 'cashPayment': False, 'deliveryTimeMax': 0, 'deliveryTimeMin': 0, 'error': 'Расчет тарифов. [TariffErrorJson(code=2003, msg=Посылка 1 класса (47030) от 09.05.2024. Плата за доставку посылки 1 класса для корпоративных клиентов (2580). Физический вес единичного отправления посылка 1 класса для корпоративных клиентов не может превышать 5 кг (2.194). (1.3).)]', 'indexTo': '101000', 'mailType': 'PARCEL_CLASS_1', 'mailTypeText': 'Посылка 1 класса', 'mass': 5500.0}, {'cardPayment': True, 'cashPayment': True, 'courierRate': 'Входит в стоимость', 'deliveryRate': 92801.0, 'deliveryTimeMax': 0, 'deliveryTimeMin': 0, 'deliveryType': 'До двери', 'easyReturn': 'от 180₽ за отправление', 'indexTo': '101000', 'insuranceValueRate': 'от 0,42% от указанной стоимости, без НДС', 'mailType': 'EMS', 'mailTypeText': 'Отправление EMS', 'mass': 5500.0, 'massMax': '31,5 кг', 'prePostalPreparationRate': '15,25₽ за отправление', 'sizeMax': 'Одна сторона не более 150 см, сумма длины и периметра наибольшего поперечного сечения не более 300 см', 'smsNotificationRate': '7 ₽'}, {'cardPayment': False, 'cashPayment': False, 'courierRate': 'Входит в стоимость', 'deliveryRate': 90240.0, 'deliveryTimeMax': 0, 'deliveryTimeMin': 0, 'deliveryType': 'До двери', 'easyReturn': 'от 180₽ за отправление', 'indexTo': '101000', 'insuranceValueRate': 'от 0,42% от указанной стоимости, без НДС', 'mailType': 'BUSINESS_COURIER', 'mailTypeText': 'Бизнес курьер', 'mass': 5500.0, 'massMax': '31,5 кг', 'sizeMax': 'Одна сторона не более 150 см, сумма длины и периметра наибольшего поперечного сечения не более 300 см'}, {'cardPayment': False, 'cashPayment': False, 'courierRate': 'Входит в стоимость', 'deliveryRate': 172320.0, 'deliveryTimeMax': 0, 'deliveryTimeMin': 0, 'deliveryType': 'До двери', 'easyReturn': 'от 180₽ за отправление', 'indexTo': '101000', 'insuranceValueRate': ' от 0,85% от указанной стоимости, без НДС', 'mailType': 'BUSINESS_COURIER_ES', 'mailTypeText': 'Бизнес курьер экспресс', 'mass': 5500.0, 'massMax': '31,5 кг', 'sizeMax': 'Одна сторона не более 150 см, сумма длины и периметра наибольшего поперечного сечения не более 300 см'}, {'cardPayment': False, 'cashPayment': False, 'courierRate': 'Входит в стоимость', 'deliveryRate': 70920.0, 'deliveryTimeMax': 0, 'deliveryTimeMin': 0, 'deliveryType': 'До двери', 'easyReturn': 'от 180₽ за отправление', 'indexTo': '101000', 'insuranceValueRate': ' от 0,17% от указанной стоимости, без НДС', 'mailType': 'EMS_RT', 'mailTypeText': 'EMS РТ', 'mass': 5500.0, 'massMax': '31,5 кг', 'sizeMax': 'Одна сторона не более 150 см, сумма длины и периметра наибольшего поперечного сечения не более 300 см'}]\n",
      "Интернет-магазины от терминала\n",
      "[{\"cardPayment\":true,\"cashPayment\":true,\"completenessChecking\":\"15,25 ₽\",\"courierRate\":\"от 300₽ за сбор партии\",\"deliveryRate\":60804.0,\"deliveryTimeMax\":0,\"deliveryTimeMin\":0,\"deliveryType\":\"Почтовое отделение\",\"easyReturn\":\"от 180₽ за отправление\",\"indexTo\":\"101000\",\"insuranceValueRate\":\" от 0,42% от указанной стоимости\",\"mailType\":\"POSTAL_PARCEL\",\"mailTypeText\":\"Посылка\",\"mass\":5500.0,\"massMax\":\"20 кг\",\"prePostalPreparationRate\":\"15,25₽ за отправление\",\"sizeMax\":\"Одна сторона не более 60 см, сумма всех сторон не более 120 см\",\"smsNotificationRate\":\"7 ₽\"},{\"cardPayment\":false,\"cashPayment\":false,\"deliveryTimeMax\":0,\"deliveryTimeMin\":0,\"error\":\"Расчет тарифов. [TariffErrorJson(code=2003, msg=Посылка 1 класса (47030) от 09.05.2024. Плата за доставку посылки 1 класса для корпоративных клиентов (2580). Физический вес единичного отправления посылка 1 класса для корпоративных клиентов не может превышать 5 кг (2.194). (1.3).)]\",\"indexTo\":\"101000\",\"mailType\":\"PARCEL_CLASS_1\",\"mailTypeText\":\"Посылка 1 класса\",\"mass\":5500.0},{\"cardPayment\":true,\"cashPayment\":true,\"completenessChecking\":\"15,25 ₽\",\"courierRate\":\"от 300₽ за сбор партии\",\"deliveryRate\":38100.0,\"deliveryTimeMax\":0,\"deliveryTimeMin\":0,\"deliveryType\":\"Почтовое отделение, почтомат\",\"easyReturn\":\"от 180₽ за отправление\",\"indexTo\":\"101000\",\"insuranceValueRate\":\"от 0,42% от указанной стоимости, без НДС\",\"mailType\":\"ONLINE_PARCEL\",\"mailTypeText\":\"Посылка онлайн\",\"mass\":5500.0,\"massMax\":\"20 кг\",\"prePostalPreparationRate\":\"15,25₽ за отправление\",\"sizeMax\":\"Одна сторона не более 60 см, сумма всех сторон не более 140 см\",\"smsNotificationRate\":\"7 ₽\"},{\"cardPayment\":true,\"cashPayment\":true,\"courierRate\":\"Входит в стоимость\",\"deliveryRate\":92801.0,\"deliveryTimeMax\":0,\"deliveryTimeMin\":0,\"deliveryType\":\"До двери\",\"easyReturn\":\"от 180₽ за отправление\",\"indexTo\":\"101000\",\"insuranceValueRate\":\"от 0,42% от указанной стоимости, без НДС\",\"mailType\":\"EMS\",\"mailTypeText\":\"Отправление EMS\",\"mass\":5500.0,\"massMax\":\"31,5 кг\",\"prePostalPreparationRate\":\"15,25₽ за отправление\",\"sizeMax\":\"Одна сторона не более 150 см, сумма длины и периметра наибольшего поперечного сечения не более 300 см\",\"smsNotificationRate\":\"7 ₽\"},{\"cardPayment\":true,\"cashPayment\":true,\"completenessChecking\":\"15,25 ₽\",\"courierRate\":\"от 300₽ за сбор партии\",\"deliveryRate\":51840.0,\"deliveryTimeMax\":0,\"deliveryTimeMin\":0,\"deliveryType\":\"До двери\",\"easyReturn\":\"от 180₽ за отправление\",\"indexTo\":\"101000\",\"insuranceValueRate\":\"от 0,42% от указанной стоимости, без НДС\",\"mailType\":\"ONLINE_COURIER\",\"mailTypeText\":\"Курьер онлайн\",\"mass\":5500.0,\"massMax\":\"31,5 кг\",\"prePostalPreparationRate\":\"15,25₽ за отправление\",\"sizeMax\":\"Одна сторона не более 60 см, сумма всех сторон не более 140 см\",\"smsNotificationRate\":\"7 ₽\"}]\n",
      "[{'cardPayment': True, 'cashPayment': True, 'completenessChecking': '15,25 ₽', 'courierRate': 'от 300₽ за сбор партии', 'deliveryRate': 60804.0, 'deliveryTimeMax': 0, 'deliveryTimeMin': 0, 'deliveryType': 'Почтовое отделение', 'easyReturn': 'от 180₽ за отправление', 'indexTo': '101000', 'insuranceValueRate': ' от 0,42% от указанной стоимости', 'mailType': 'POSTAL_PARCEL', 'mailTypeText': 'Посылка', 'mass': 5500.0, 'massMax': '20 кг', 'prePostalPreparationRate': '15,25₽ за отправление', 'sizeMax': 'Одна сторона не более 60 см, сумма всех сторон не более 120 см', 'smsNotificationRate': '7 ₽'}, {'cardPayment': False, 'cashPayment': False, 'deliveryTimeMax': 0, 'deliveryTimeMin': 0, 'error': 'Расчет тарифов. [TariffErrorJson(code=2003, msg=Посылка 1 класса (47030) от 09.05.2024. Плата за доставку посылки 1 класса для корпоративных клиентов (2580). Физический вес единичного отправления посылка 1 класса для корпоративных клиентов не может превышать 5 кг (2.194). (1.3).)]', 'indexTo': '101000', 'mailType': 'PARCEL_CLASS_1', 'mailTypeText': 'Посылка 1 класса', 'mass': 5500.0}, {'cardPayment': True, 'cashPayment': True, 'completenessChecking': '15,25 ₽', 'courierRate': 'от 300₽ за сбор партии', 'deliveryRate': 38100.0, 'deliveryTimeMax': 0, 'deliveryTimeMin': 0, 'deliveryType': 'Почтовое отделение, почтомат', 'easyReturn': 'от 180₽ за отправление', 'indexTo': '101000', 'insuranceValueRate': 'от 0,42% от указанной стоимости, без НДС', 'mailType': 'ONLINE_PARCEL', 'mailTypeText': 'Посылка онлайн', 'mass': 5500.0, 'massMax': '20 кг', 'prePostalPreparationRate': '15,25₽ за отправление', 'sizeMax': 'Одна сторона не более 60 см, сумма всех сторон не более 140 см', 'smsNotificationRate': '7 ₽'}, {'cardPayment': True, 'cashPayment': True, 'courierRate': 'Входит в стоимость', 'deliveryRate': 92801.0, 'deliveryTimeMax': 0, 'deliveryTimeMin': 0, 'deliveryType': 'До двери', 'easyReturn': 'от 180₽ за отправление', 'indexTo': '101000', 'insuranceValueRate': 'от 0,42% от указанной стоимости, без НДС', 'mailType': 'EMS', 'mailTypeText': 'Отправление EMS', 'mass': 5500.0, 'massMax': '31,5 кг', 'prePostalPreparationRate': '15,25₽ за отправление', 'sizeMax': 'Одна сторона не более 150 см, сумма длины и периметра наибольшего поперечного сечения не более 300 см', 'smsNotificationRate': '7 ₽'}, {'cardPayment': True, 'cashPayment': True, 'completenessChecking': '15,25 ₽', 'courierRate': 'от 300₽ за сбор партии', 'deliveryRate': 51840.0, 'deliveryTimeMax': 0, 'deliveryTimeMin': 0, 'deliveryType': 'До двери', 'easyReturn': 'от 180₽ за отправление', 'indexTo': '101000', 'insuranceValueRate': 'от 0,42% от указанной стоимости, без НДС', 'mailType': 'ONLINE_COURIER', 'mailTypeText': 'Курьер онлайн', 'mass': 5500.0, 'massMax': '31,5 кг', 'prePostalPreparationRate': '15,25₽ за отправление', 'sizeMax': 'Одна сторона не более 60 см, сумма всех сторон не более 140 см', 'smsNotificationRate': '7 ₽'}]\n",
      "Интернет-магазины от двери\n",
      "[{\"cardPayment\":true,\"cashPayment\":true,\"completenessChecking\":\"15,25 ₽\",\"courierRate\":\"от 300₽ за сбор партии\",\"deliveryRate\":60804.0,\"deliveryTimeMax\":0,\"deliveryTimeMin\":0,\"deliveryType\":\"Почтовое отделение\",\"easyReturn\":\"от 180₽ за отправление\",\"indexTo\":\"101000\",\"insuranceValueRate\":\" от 0,42% от указанной стоимости\",\"mailType\":\"POSTAL_PARCEL\",\"mailTypeText\":\"Посылка\",\"mass\":5500.0,\"massMax\":\"20 кг\",\"prePostalPreparationRate\":\"15,25₽ за отправление\",\"sizeMax\":\"Одна сторона не более 60 см, сумма всех сторон не более 120 см\",\"smsNotificationRate\":\"7 ₽\"},{\"cardPayment\":false,\"cashPayment\":false,\"deliveryTimeMax\":0,\"deliveryTimeMin\":0,\"error\":\"Расчет тарифов. [TariffErrorJson(code=2003, msg=Посылка 1 класса (47030) от 09.05.2024. Плата за доставку посылки 1 класса для корпоративных клиентов (2580). Физический вес единичного отправления посылка 1 класса для корпоративных клиентов не может превышать 5 кг (2.194). (1.3).)]\",\"indexTo\":\"101000\",\"mailType\":\"PARCEL_CLASS_1\",\"mailTypeText\":\"Посылка 1 класса\",\"mass\":5500.0},{\"cardPayment\":true,\"cashPayment\":true,\"completenessChecking\":\"15,25 ₽\",\"courierRate\":\"от 300₽ за сбор партии\",\"deliveryRate\":38100.0,\"deliveryTimeMax\":0,\"deliveryTimeMin\":0,\"deliveryType\":\"Почтовое отделение, почтомат\",\"easyReturn\":\"от 180₽ за отправление\",\"indexTo\":\"101000\",\"insuranceValueRate\":\"от 0,42% от указанной стоимости, без НДС\",\"mailType\":\"ONLINE_PARCEL\",\"mailTypeText\":\"Посылка онлайн\",\"mass\":5500.0,\"massMax\":\"20 кг\",\"prePostalPreparationRate\":\"15,25₽ за отправление\",\"sizeMax\":\"Одна сторона не более 60 см, сумма всех сторон не более 140 см\",\"smsNotificationRate\":\"7 ₽\"},{\"cardPayment\":true,\"cashPayment\":true,\"courierRate\":\"Входит в стоимость\",\"deliveryRate\":92801.0,\"deliveryTimeMax\":0,\"deliveryTimeMin\":0,\"deliveryType\":\"До двери\",\"easyReturn\":\"от 180₽ за отправление\",\"indexTo\":\"101000\",\"insuranceValueRate\":\"от 0,42% от указанной стоимости, без НДС\",\"mailType\":\"EMS\",\"mailTypeText\":\"Отправление EMS\",\"mass\":5500.0,\"massMax\":\"31,5 кг\",\"prePostalPreparationRate\":\"15,25₽ за отправление\",\"sizeMax\":\"Одна сторона не более 150 см, сумма длины и периметра наибольшего поперечного сечения не более 300 см\",\"smsNotificationRate\":\"7 ₽\"},{\"cardPayment\":true,\"cashPayment\":true,\"completenessChecking\":\"15,25 ₽\",\"courierRate\":\"от 300₽ за сбор партии\",\"deliveryRate\":51840.0,\"deliveryTimeMax\":0,\"deliveryTimeMin\":0,\"deliveryType\":\"До двери\",\"easyReturn\":\"от 180₽ за отправление\",\"indexTo\":\"101000\",\"insuranceValueRate\":\"от 0,42% от указанной стоимости, без НДС\",\"mailType\":\"ONLINE_COURIER\",\"mailTypeText\":\"Курьер онлайн\",\"mass\":5500.0,\"massMax\":\"31,5 кг\",\"prePostalPreparationRate\":\"15,25₽ за отправление\",\"sizeMax\":\"Одна сторона не более 60 см, сумма всех сторон не более 140 см\",\"smsNotificationRate\":\"7 ₽\"}]\n",
      "[{'cardPayment': True, 'cashPayment': True, 'completenessChecking': '15,25 ₽', 'courierRate': 'от 300₽ за сбор партии', 'deliveryRate': 60804.0, 'deliveryTimeMax': 0, 'deliveryTimeMin': 0, 'deliveryType': 'Почтовое отделение', 'easyReturn': 'от 180₽ за отправление', 'indexTo': '101000', 'insuranceValueRate': ' от 0,42% от указанной стоимости', 'mailType': 'POSTAL_PARCEL', 'mailTypeText': 'Посылка', 'mass': 5500.0, 'massMax': '20 кг', 'prePostalPreparationRate': '15,25₽ за отправление', 'sizeMax': 'Одна сторона не более 60 см, сумма всех сторон не более 120 см', 'smsNotificationRate': '7 ₽'}, {'cardPayment': False, 'cashPayment': False, 'deliveryTimeMax': 0, 'deliveryTimeMin': 0, 'error': 'Расчет тарифов. [TariffErrorJson(code=2003, msg=Посылка 1 класса (47030) от 09.05.2024. Плата за доставку посылки 1 класса для корпоративных клиентов (2580). Физический вес единичного отправления посылка 1 класса для корпоративных клиентов не может превышать 5 кг (2.194). (1.3).)]', 'indexTo': '101000', 'mailType': 'PARCEL_CLASS_1', 'mailTypeText': 'Посылка 1 класса', 'mass': 5500.0}, {'cardPayment': True, 'cashPayment': True, 'completenessChecking': '15,25 ₽', 'courierRate': 'от 300₽ за сбор партии', 'deliveryRate': 38100.0, 'deliveryTimeMax': 0, 'deliveryTimeMin': 0, 'deliveryType': 'Почтовое отделение, почтомат', 'easyReturn': 'от 180₽ за отправление', 'indexTo': '101000', 'insuranceValueRate': 'от 0,42% от указанной стоимости, без НДС', 'mailType': 'ONLINE_PARCEL', 'mailTypeText': 'Посылка онлайн', 'mass': 5500.0, 'massMax': '20 кг', 'prePostalPreparationRate': '15,25₽ за отправление', 'sizeMax': 'Одна сторона не более 60 см, сумма всех сторон не более 140 см', 'smsNotificationRate': '7 ₽'}, {'cardPayment': True, 'cashPayment': True, 'courierRate': 'Входит в стоимость', 'deliveryRate': 92801.0, 'deliveryTimeMax': 0, 'deliveryTimeMin': 0, 'deliveryType': 'До двери', 'easyReturn': 'от 180₽ за отправление', 'indexTo': '101000', 'insuranceValueRate': 'от 0,42% от указанной стоимости, без НДС', 'mailType': 'EMS', 'mailTypeText': 'Отправление EMS', 'mass': 5500.0, 'massMax': '31,5 кг', 'prePostalPreparationRate': '15,25₽ за отправление', 'sizeMax': 'Одна сторона не более 150 см, сумма длины и периметра наибольшего поперечного сечения не более 300 см', 'smsNotificationRate': '7 ₽'}, {'cardPayment': True, 'cashPayment': True, 'completenessChecking': '15,25 ₽', 'courierRate': 'от 300₽ за сбор партии', 'deliveryRate': 51840.0, 'deliveryTimeMax': 0, 'deliveryTimeMin': 0, 'deliveryType': 'До двери', 'easyReturn': 'от 180₽ за отправление', 'indexTo': '101000', 'insuranceValueRate': 'от 0,42% от указанной стоимости, без НДС', 'mailType': 'ONLINE_COURIER', 'mailTypeText': 'Курьер онлайн', 'mass': 5500.0, 'massMax': '31,5 кг', 'prePostalPreparationRate': '15,25₽ за отправление', 'sizeMax': 'Одна сторона не более 60 см, сумма всех сторон не более 140 см', 'smsNotificationRate': '7 ₽'}]\n"
     ]
    }
   ],
   "source": [
    "# расчёт стоимости и сроков доставки\n",
    "url = \"https://otpravka.pochta.ru/api/calculator/calculate\"\n",
    "headers = {\"User-Agent\": user_agent,\n",
    "           \"Content-Type\": \"application/json;charset=UTF-8\",\n",
    "           \"X-XSRF-TOKEN\": token}\n",
    "rates = {1: \"Стандарт\",\n",
    "         2: \"Интернет-магазины\"}\n",
    "weights = [5.5]  # вес в килограммах, можно указать несколько\n",
    "\n",
    "for rate_code in rates:  # проходим по кодам тарифов...\n",
    "    for pickup_variant in (\"POST_OFFICE\", \"COURIER\"):  # считаем от терминала и двери\n",
    "\n",
    "        print(f\"{rates[rate_code]} от {'терминала' if pickup_variant == 'POST_OFFICE' else 'двери'}\")\n",
    "        input_data = {\"hasOnlineShop\": False if rate_code == 1 else True,\n",
    "                      \"indexFrom\": \"420000\",\n",
    "                      \"deliveryTypeFrom\": pickup_variant,\n",
    "                      \"indicesTo\": [\"101000\"],\n",
    "                      \"deliveryTypeTo\": \"ANY\",\n",
    "                      \"masses\": [math.ceil(x * 1000) for x in weights]}  # вес переводится в граммы\n",
    "        resp = session.post(url=url, data=json.dumps(input_data), headers=headers)\n",
    "        print(resp.text)\n",
    "        resp.raise_for_status()\n",
    "        output_data = resp.json()\n",
    "        print(output_data)"
   ]
  }
 ],
 "metadata": {
  "kernelspec": {
   "display_name": "Python 3 (ipykernel)",
   "language": "python",
   "name": "python3"
  },
  "language_info": {
   "codemirror_mode": {
    "name": "ipython",
    "version": 3
   },
   "file_extension": ".py",
   "mimetype": "text/x-python",
   "name": "python",
   "nbconvert_exporter": "python",
   "pygments_lexer": "ipython3",
   "version": "3.8.10"
  }
 },
 "nbformat": 4,
 "nbformat_minor": 4
}
